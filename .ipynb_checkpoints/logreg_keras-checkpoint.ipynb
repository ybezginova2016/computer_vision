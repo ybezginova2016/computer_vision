{
 "cells": [
  {
   "cell_type": "markdown",
   "id": "63a1a49d",
   "metadata": {},
   "source": [
    "# Logistic Regression: Keras"
   ]
  },
  {
   "cell_type": "code",
   "execution_count": 23,
   "id": "cf5da72d",
   "metadata": {},
   "outputs": [],
   "source": [
    "import pandas as pd\n",
    "import numpy as np\n",
    "from sklearn.metrics import accuracy_score\n",
    "from tensorflow import keras\n",
    "\n",
    "import warnings\n",
    "warnings.simplefilter(\"ignore\", category=RuntimeWarning)\n",
    "pd.options.mode.chained_assignment = None "
   ]
  },
  {
   "cell_type": "code",
   "execution_count": 3,
   "id": "51932bc5",
   "metadata": {},
   "outputs": [],
   "source": [
    "# loading and splitting train data\n",
    "df = pd.read_csv('/Users/yuliabezginova/PycharmProjects/computer_vision/train_data_n.csv')\n",
    "df['target'] = (df['target'] > df['target'].median()).astype(int)\n",
    "features_train = df.drop('target', axis=1)\n",
    "target_train = df['target']\n",
    "\n",
    "# loading and splitting test data\n",
    "df_val = pd.read_csv('/Users/yuliabezginova/PycharmProjects/computer_vision/test_data_n.csv')\n",
    "df_val['target'] = (df_val['target'] > df['target'].median()).astype(int)\n",
    "features_valid = df_val.drop('target', axis=1)\n",
    "target_valid = df_val['target']"
   ]
  },
  {
   "cell_type": "markdown",
   "id": "8dc619a7",
   "metadata": {},
   "source": [
    "## 1.1 Training the model"
   ]
  },
  {
   "cell_type": "code",
   "execution_count": 5,
   "id": "2b9ef4d2",
   "metadata": {},
   "outputs": [],
   "source": [
    "model = keras.models.Sequential()\n",
    "\n",
    "import warnings\n",
    "warnings.simplefilter(\"ignore\", category=RuntimeWarning)\n",
    "pd.options.mode.chained_assignment = None "
   ]
  },
  {
   "cell_type": "code",
   "execution_count": 7,
   "id": "380d0478",
   "metadata": {},
   "outputs": [],
   "source": [
    "# 1) К полносвязному слою примените функцию активации:\n",
    "keras.layers.Dense(units=1, input_dim=features_train.shape[1], \n",
    "                   activation='sigmoid');"
   ]
  },
  {
   "cell_type": "code",
   "execution_count": 9,
   "id": "4580cecf",
   "metadata": {},
   "outputs": [],
   "source": [
    "# добавляем слой\n",
    "model.add(keras.layers.Dense(units=1, input_dim=features_train.shape[1],\n",
    "                            activation='sigmoid')) "
   ]
  },
  {
   "cell_type": "code",
   "execution_count": 10,
   "id": "e477776b",
   "metadata": {},
   "outputs": [],
   "source": [
    "# 2) Поменяйте функцию потерь MSE на binary_crossentropy.\n",
    "model.compile(loss='binary_crossentropy', optimizer='sgd')"
   ]
  },
  {
   "cell_type": "code",
   "execution_count": 11,
   "id": "c025ba6c",
   "metadata": {},
   "outputs": [
    {
     "name": "stdout",
     "output_type": "stream",
     "text": [
      "Epoch 1/5\n",
      "32/32 - 1s - loss: 0.8682 - val_loss: 0.8525 - 993ms/epoch - 31ms/step\n",
      "Epoch 2/5\n",
      "32/32 - 0s - loss: 0.8361 - val_loss: 0.8317 - 128ms/epoch - 4ms/step\n",
      "Epoch 3/5\n",
      "32/32 - 0s - loss: 0.8081 - val_loss: 0.8132 - 129ms/epoch - 4ms/step\n",
      "Epoch 4/5\n",
      "32/32 - 0s - loss: 0.7826 - val_loss: 0.7972 - 136ms/epoch - 4ms/step\n",
      "Epoch 5/5\n",
      "32/32 - 0s - loss: 0.7605 - val_loss: 0.7830 - 172ms/epoch - 5ms/step\n"
     ]
    }
   ],
   "source": [
    "model.fit(features_train, target_train,\n",
    "          verbose=2,\n",
    "         epochs=5,\n",
    "         validation_data=(features_valid, target_valid));"
   ]
  },
  {
   "cell_type": "markdown",
   "id": "41300ec9",
   "metadata": {},
   "source": [
    "### Conclusion: Кросс-энтропия уменьшается, это хорошо. Чтобы понять, улучшается ли модель или нет, необходимо вычислить accuracy."
   ]
  },
  {
   "cell_type": "markdown",
   "id": "d8114f5a",
   "metadata": {},
   "source": [
    "## 1.2 Calculating the accuracy metric\n",
    "\n",
    "Найдем accuracy модели на валидационной выборке. Предсказания модели вычисляются функцией predict(), как в sklearn. Сигмоида вернёт числа от 0 до 1, преобразуйте их в классы, сравнив с 0.5.\n",
    "\n",
    "Напечатаем на экране значение accuracy. Чтобы выводу не мешал прогресс обучения, зададим verbose=0."
   ]
  },
  {
   "cell_type": "markdown",
   "id": "bb99d227",
   "metadata": {},
   "source": [
    "```\n",
    "score = accuracy_score(y_true, y_pred)\n",
    "```\n",
    "\n",
    "https://scikit-learn.org/stable/modules/generated/sklearn.metrics.accuracy_score.html"
   ]
  },
  {
   "cell_type": "code",
   "execution_count": 15,
   "id": "409e84b5",
   "metadata": {},
   "outputs": [
    {
     "name": "stdout",
     "output_type": "stream",
     "text": [
      "32/32 [==============================] - 0s 2ms/step\n"
     ]
    }
   ],
   "source": [
    "predictions = model.predict(features_valid) > 0.5"
   ]
  },
  {
   "cell_type": "code",
   "execution_count": 25,
   "id": "ad1441eb",
   "metadata": {
    "scrolled": true
   },
   "outputs": [
    {
     "name": "stdout",
     "output_type": "stream",
     "text": [
      "Test accuracy: 0.537\n"
     ]
    }
   ],
   "source": [
    "score = accuracy_score(target_valid, predictions)\n",
    "print('Test accuracy:', score)"
   ]
  },
  {
   "cell_type": "code",
   "execution_count": null,
   "id": "1d41dea3",
   "metadata": {},
   "outputs": [],
   "source": [
    "# score = model.evaluate(features_valid, target_valid, verbose=0)\n",
    "# print('Test accuracy:', score)"
   ]
  },
  {
   "cell_type": "markdown",
   "id": "00dcfd0f",
   "metadata": {},
   "source": [
    "### Conclusion: Модель показывают довольно высокую точность. Однако надо увеличивать количество эпох."
   ]
  },
  {
   "cell_type": "markdown",
   "id": "67207af3",
   "metadata": {},
   "source": [
    "### epochs=10, metrics=['acc']\n",
    "\n",
    "Обучение нейронной сети обычно занимает много времени. Сделайте так, чтобы отследить качество модели можно было на каждой эпохе. Для этого добавьте параметр metrics=['acc'] (от англ. accuracy) в методе compile(). \n",
    "Чтобы улучшить значение accuracy, обучите модель на десяти эпохах."
   ]
  },
  {
   "cell_type": "code",
   "execution_count": 33,
   "id": "3bca8c18",
   "metadata": {},
   "outputs": [
    {
     "name": "stdout",
     "output_type": "stream",
     "text": [
      "Epoch 1/10\n",
      "32/32 - 1s - loss: 0.6088 - acc: 0.6700 - val_loss: 0.7123 - val_acc: 0.5700 - 997ms/epoch - 31ms/step\n",
      "Epoch 2/10\n",
      "32/32 - 0s - loss: 0.6083 - acc: 0.6710 - val_loss: 0.7129 - val_acc: 0.5690 - 146ms/epoch - 5ms/step\n",
      "Epoch 3/10\n",
      "32/32 - 0s - loss: 0.6081 - acc: 0.6730 - val_loss: 0.7131 - val_acc: 0.5660 - 154ms/epoch - 5ms/step\n",
      "Epoch 4/10\n",
      "32/32 - 0s - loss: 0.6077 - acc: 0.6750 - val_loss: 0.7136 - val_acc: 0.5690 - 159ms/epoch - 5ms/step\n",
      "Epoch 5/10\n",
      "32/32 - 0s - loss: 0.6076 - acc: 0.6700 - val_loss: 0.7137 - val_acc: 0.5660 - 258ms/epoch - 8ms/step\n",
      "Epoch 6/10\n",
      "32/32 - 0s - loss: 0.6072 - acc: 0.6790 - val_loss: 0.7141 - val_acc: 0.5640 - 149ms/epoch - 5ms/step\n",
      "Epoch 7/10\n",
      "32/32 - 0s - loss: 0.6071 - acc: 0.6760 - val_loss: 0.7143 - val_acc: 0.5610 - 149ms/epoch - 5ms/step\n",
      "Epoch 8/10\n",
      "32/32 - 0s - loss: 0.6068 - acc: 0.6740 - val_loss: 0.7147 - val_acc: 0.5620 - 129ms/epoch - 4ms/step\n",
      "Epoch 9/10\n",
      "32/32 - 0s - loss: 0.6065 - acc: 0.6750 - val_loss: 0.7153 - val_acc: 0.5630 - 246ms/epoch - 8ms/step\n",
      "Epoch 10/10\n",
      "32/32 - 0s - loss: 0.6063 - acc: 0.6750 - val_loss: 0.7154 - val_acc: 0.5680 - 290ms/epoch - 9ms/step\n"
     ]
    }
   ],
   "source": [
    "model.compile(loss='binary_crossentropy', optimizer='sgd',\n",
    "              metrics=['acc'])\n",
    "model.fit(features_train, target_train, epochs=10, verbose=2,\n",
    "          validation_data=(features_valid, target_valid));"
   ]
  },
  {
   "cell_type": "code",
   "execution_count": 32,
   "id": "a3e6b2ac",
   "metadata": {},
   "outputs": [
    {
     "name": "stdout",
     "output_type": "stream",
     "text": [
      "32/32 [==============================] - 0s 2ms/step\n"
     ]
    }
   ],
   "source": [
    "predictions = model.predict(features_valid) > 0.5"
   ]
  },
  {
   "cell_type": "code",
   "execution_count": 30,
   "id": "5e81d0e5",
   "metadata": {},
   "outputs": [
    {
     "name": "stdout",
     "output_type": "stream",
     "text": [
      "Accuracy: 0.56\n"
     ]
    }
   ],
   "source": [
    "score = accuracy_score(target_valid, predictions)\n",
    "print('Accuracy:', score)"
   ]
  },
  {
   "cell_type": "markdown",
   "id": "bc860962",
   "metadata": {},
   "source": [
    "### Conclusion: Точность неизбежно растет при увеличении количества эпох. В реальной жизни их число можно и нужно увеличивать до 50-80-100."
   ]
  }
 ],
 "metadata": {
  "kernelspec": {
   "display_name": "Python 3 (ipykernel)",
   "language": "python",
   "name": "python3"
  },
  "language_info": {
   "codemirror_mode": {
    "name": "ipython",
    "version": 3
   },
   "file_extension": ".py",
   "mimetype": "text/x-python",
   "name": "python",
   "nbconvert_exporter": "python",
   "pygments_lexer": "ipython3",
   "version": "3.10.9"
  }
 },
 "nbformat": 4,
 "nbformat_minor": 5
}
