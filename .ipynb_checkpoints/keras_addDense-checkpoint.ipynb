{
 "cells": [
  {
   "cell_type": "markdown",
   "id": "80a71029",
   "metadata": {},
   "source": [
    "# Fully Connected Neural Networks: Adding Layers"
   ]
  },
  {
   "cell_type": "code",
   "execution_count": 1,
   "id": "8b848a9f",
   "metadata": {},
   "outputs": [
    {
     "name": "stderr",
     "output_type": "stream",
     "text": [
      "2022-12-27 21:32:33.263745: I tensorflow/core/platform/cpu_feature_guard.cc:193] This TensorFlow binary is optimized with oneAPI Deep Neural Network Library (oneDNN) to use the following CPU instructions in performance-critical operations:  AVX2 FMA\n",
      "To enable them in other operations, rebuild TensorFlow with the appropriate compiler flags.\n"
     ]
    }
   ],
   "source": [
    "import pandas as pd\n",
    "from tensorflow import keras\n",
    "\n",
    "import warnings\n",
    "warnings.simplefilter(\"ignore\", category=RuntimeWarning)\n",
    "pd.options.mode.chained_assignment = None "
   ]
  },
  {
   "cell_type": "code",
   "execution_count": 2,
   "id": "1a8e1433",
   "metadata": {},
   "outputs": [],
   "source": [
    "# loading and splitting train data\n",
    "data_train = pd.read_csv('/Users/yuliabezginova/PycharmProjects/computer_vision/train_data_n.csv')\n",
    "features_train = data_train.drop('target', axis=1)\n",
    "target_train = data_train['target']\n",
    "\n",
    "# loading and splitting test data\n",
    "data_valid = pd.read_csv('/Users/yuliabezginova/PycharmProjects/computer_vision/test_data_n.csv')\n",
    "features_valid = data_valid.drop('target', axis=1)\n",
    "target_valid = data_valid['target']"
   ]
  },
  {
   "cell_type": "markdown",
   "id": "9c6f8768",
   "metadata": {},
   "source": [
    "## Task 1\n",
    "\n",
    "Добавьте в нейронную сеть ещё один слой. Пусть у первого скрытого слоя будет 10 нейронов units с сигмоидной активацией. Во втором выходном слое будет один нейрон с сигмоидой: её рассмотрим как вероятность класса «1».\n",
    "Обучите нейронную сеть на 10 эпохах, напечатав на экране прогресс обучения."
   ]
  },
  {
   "cell_type": "code",
   "execution_count": 4,
   "id": "233a14d1",
   "metadata": {},
   "outputs": [
    {
     "name": "stdout",
     "output_type": "stream",
     "text": [
      "Epoch 1/10\n",
      "32/32 - 1s - loss: 0.5824 - acc: 0.0030 - val_loss: 0.4051 - val_acc: 0.0020 - 929ms/epoch - 29ms/step\n",
      "Epoch 2/10\n",
      "32/32 - 0s - loss: 0.1952 - acc: 0.0010 - val_loss: 0.1923 - val_acc: 0.0020 - 134ms/epoch - 4ms/step\n",
      "Epoch 3/10\n",
      "32/32 - 0s - loss: -6.4798e-02 - acc: 0.0010 - val_loss: 0.0636 - val_acc: 0.0020 - 199ms/epoch - 6ms/step\n",
      "Epoch 4/10\n",
      "32/32 - 0s - loss: -2.4901e-01 - acc: 0.0010 - val_loss: -2.7329e-02 - val_acc: 0.0020 - 158ms/epoch - 5ms/step\n",
      "Epoch 5/10\n",
      "32/32 - 0s - loss: -3.9944e-01 - acc: 0.0010 - val_loss: -1.0514e-01 - val_acc: 0.0020 - 154ms/epoch - 5ms/step\n",
      "Epoch 6/10\n",
      "32/32 - 0s - loss: -5.5031e-01 - acc: 0.0010 - val_loss: -1.7668e-01 - val_acc: 0.0020 - 176ms/epoch - 5ms/step\n",
      "Epoch 7/10\n",
      "32/32 - 0s - loss: -6.9642e-01 - acc: 0.0010 - val_loss: -2.5179e-01 - val_acc: 0.0020 - 298ms/epoch - 9ms/step\n",
      "Epoch 8/10\n",
      "32/32 - 0s - loss: -8.6092e-01 - acc: 0.0010 - val_loss: -3.2873e-01 - val_acc: 0.0020 - 155ms/epoch - 5ms/step\n",
      "Epoch 9/10\n",
      "32/32 - 0s - loss: -1.0330e+00 - acc: 0.0010 - val_loss: -4.1453e-01 - val_acc: 0.0020 - 211ms/epoch - 7ms/step\n",
      "Epoch 10/10\n",
      "32/32 - 0s - loss: -1.2230e+00 - acc: 0.0010 - val_loss: -5.0492e-01 - val_acc: 0.0020 - 150ms/epoch - 5ms/step\n"
     ]
    }
   ],
   "source": [
    "model = keras.models.Sequential()\n",
    "\n",
    "model.add(keras.layers.Dense(units=10, input_dim=features_train.shape[1], activation='sigmoid'))\n",
    "model.add(keras.layers.Dense(units=1, activation='sigmoid'))\n",
    "\n",
    "# как обучается нейронная сеть, подготовка модели к обучению\n",
    "model.compile(loss='binary_crossentropy', optimizer='sgd', metrics=['acc'])\n",
    "\n",
    "model.fit(features_train, target_train, epochs=10, verbose=2,\n",
    "          validation_data=(features_valid, target_valid))\n",
    "\n",
    "import warnings\n",
    "warnings.simplefilter(\"ignore\", category=RuntimeWarning)\n",
    "pd.options.mode.chained_assignment = None"
   ]
  }
 ],
 "metadata": {
  "kernelspec": {
   "display_name": "Python 3 (ipykernel)",
   "language": "python",
   "name": "python3"
  },
  "language_info": {
   "codemirror_mode": {
    "name": "ipython",
    "version": 3
   },
   "file_extension": ".py",
   "mimetype": "text/x-python",
   "name": "python",
   "nbconvert_exporter": "python",
   "pygments_lexer": "ipython3",
   "version": "3.10.9"
  }
 },
 "nbformat": 4,
 "nbformat_minor": 5
}
