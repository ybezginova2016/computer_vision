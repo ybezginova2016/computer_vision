{
 "cells": [
  {
   "cell_type": "markdown",
   "id": "84fe24ee",
   "metadata": {},
   "source": [
    "# Linear Regression with Keras: exercises"
   ]
  },
  {
   "cell_type": "code",
   "execution_count": 2,
   "id": "22d487f8",
   "metadata": {},
   "outputs": [],
   "source": [
    "import pandas as pd\n",
    "# from sklearn.linear_model import LinearRegression\n",
    "from tensorflow import keras\n",
    "import warnings\n",
    "warnings.simplefilter(\"ignore\", category=RuntimeWarning)\n",
    "pd.options.mode.chained_assignment = None "
   ]
  },
  {
   "cell_type": "code",
   "execution_count": 4,
   "id": "de3704ff",
   "metadata": {},
   "outputs": [],
   "source": [
    "data = pd.read_csv('/Users/yuliabezginova/PycharmProjects/computer_vision/train_data_n.csv')"
   ]
  },
  {
   "cell_type": "markdown",
   "id": "df5d6aa2",
   "metadata": {},
   "source": [
    "## Task 1\n",
    "Обучите модель линейной регрессии средствами библиотеки Keras. Метод fit() напечатает на экране прогресс обучения и значение ошибки. Чтобы формат ответа был понятным, добавьте в этот метод аргумент verbose=2, где 2 означает вывод в консоль. Если указать 0, то его не будет вовсе; если — 1, то вывод предназначен для Jupyter Notebook."
   ]
  },
  {
   "attachments": {
    "image.png": {
     "image/png": "[encoded data removed]"
    }
   },
   "cell_type": "markdown",
   "id": "038b953b",
   "metadata": {},
   "source": [
    "- verbose=0 will show you nothing (silent)\n",
    "\n",
    "- verbose=1 will show you an animated progress bar like this:\n",
    "```\n",
    "progres_bar\n",
    "```\n",
    "- verbose=2 will just mention the number of epoch like this:\n",
    "\n",
    "![image.png](attachment:image.png)"
   ]
  },
  {
   "cell_type": "code",
   "execution_count": 5,
   "id": "f819c91e",
   "metadata": {},
   "outputs": [],
   "source": [
    "features = data.drop('target', axis=1)\n",
    "target = data['target']"
   ]
  },
  {
   "cell_type": "code",
   "execution_count": 7,
   "id": "ae7e3cb9",
   "metadata": {},
   "outputs": [],
   "source": [
    "# создание модели\n",
    "\n",
    "# инициализирует нейронную сеть. Модели задаётся класс Sequential (англ. «последовательный»). \n",
    "# Этот класс применяется для моделей, в которых слои идут последовательно. \n",
    "# Слой (англ. layer) — набор нейронов с общим входом и выходом.\n",
    "\n",
    "model = keras.models.Sequential()\n",
    "\n",
    "import warnings\n",
    "warnings.simplefilter(\"ignore\", category=RuntimeWarning)\n",
    "pd.options.mode.chained_assignment = None "
   ]
  },
  {
   "cell_type": "code",
   "execution_count": 11,
   "id": "cae17dfe",
   "metadata": {},
   "outputs": [
    {
     "data": {
      "text/plain": [
       "<keras.layers.core.dense.Dense at 0x12deee380>"
      ]
     },
     "execution_count": 11,
     "metadata": {},
     "output_type": "execute_result"
    }
   ],
   "source": [
    "# параметры нейронной сети\n",
    "\n",
    "# Сеть будет состоять лишь из одного нейрона, или значения на одном выходе. \n",
    "# В ней n входов, каждый умножается на свой вес. Например, x₁ умножается на w₁. \n",
    "\n",
    "# Есть ещё один вход, который всегда равен единице. Его вес обозначается \n",
    "# b (англ. bias, «смещение»). Именно из подбора весов w и b состоит \n",
    "# процесс обучения нейронной сети. После того как все произведения значений \n",
    "# входов на веса просуммированы, на выход подаётся ответ нейронной сети (а).\n",
    "\n",
    "# Команда keras.layers.Dense() (англ. «густые слои в Keras») создаёт \n",
    "# один слой нейронов. «Густой» означает, что каждый вход будет соединён \n",
    "# с каждым нейроном, или выходом. Параметр units (англ. «части») задаёт \n",
    "# количество нейронов в слое, а input_dim (от англ. dimension, «размерность») \n",
    "# — количество входов в слое. Причём в этом параметре смещение не учитывается. \n",
    "\n",
    "# Слой для сети создаётся так:\n",
    "# количество входов берётся из обучающей выборки\n",
    "keras.layers.Dense(units=1, input_dim=features.shape[1])"
   ]
  },
  {
   "cell_type": "code",
   "execution_count": 12,
   "id": "64e69b1c",
   "metadata": {},
   "outputs": [],
   "source": [
    "model.add(keras.layers.Dense(units=1, input_dim=features.shape[1])) "
   ]
  },
  {
   "cell_type": "code",
   "execution_count": 13,
   "id": "13fd8692",
   "metadata": {},
   "outputs": [],
   "source": [
    "# как обучается нейронная сеть\n",
    "\n",
    "# Эта строчка готовит модель к обучению. После этой команды конструкцию сети уже нельзя \n",
    "# будет изменить. В параметре loss указана функция потерь для задачи регрессии — MSE. \n",
    "# В параметре optimizer='sgd' (англ. «оптимизатор») задан метод градиентного спуска. \n",
    "# Запомните: нейронные сети обучаются SGD.\n",
    "\n",
    "model.compile(loss='mean_squared_error', optimizer='sgd')"
   ]
  },
  {
   "cell_type": "code",
   "execution_count": 14,
   "id": "243125a6",
   "metadata": {},
   "outputs": [
    {
     "name": "stdout",
     "output_type": "stream",
     "text": [
      "32/32 - 1s - loss: 8.6700 - 1s/epoch - 32ms/step\n"
     ]
    },
    {
     "data": {
      "text/plain": [
       "<keras.callbacks.History at 0x12e5f2350>"
      ]
     },
     "execution_count": 14,
     "metadata": {},
     "output_type": "execute_result"
    }
   ],
   "source": [
    "# обучить модель\n",
    "model.fit(features, target, verbose=2)"
   ]
  },
  {
   "cell_type": "markdown",
   "id": "1e5ae941",
   "metadata": {},
   "source": [
    "### Output - обучили модель на одной эпохе\n",
    "- Train on 1000 samples\n",
    "- 1000/1000 - 0s - loss: 9.5520"
   ]
  },
  {
   "cell_type": "markdown",
   "id": "705b0d0e",
   "metadata": {},
   "source": [
    "### Conclusion: Обучили модель на одной эпохе. Такое количество по умолчанию. \n",
    "- Первые строки с информацией от tensorflow не столь важны: библиотека всегода выдает их при запуске.\n",
    "- ```Train on 1000 samples``` - в обучающей выборке 1000 объектов.\n",
    "- ```1000/1000``` - в первой эпохе было обработано всего 1000 объктов. Это значение будет одинаковым.\n",
    "- ```0s``` - на первую эпоху ушло примерно 0 секунд.\n",
    "- ```loss: 9.0930``` - среднее значение функции потерь на первой эпохе равно 9.0930ю."
   ]
  },
  {
   "cell_type": "markdown",
   "id": "a3d9490f",
   "metadata": {},
   "source": [
    "## Task 2\n",
    "Подберите такое количество эпох, чтобы получить MSE меньше 6.55. Добавить эпохи можно, указав аргумент epochs в методе model.fit()."
   ]
  },
  {
   "cell_type": "code",
   "execution_count": 18,
   "id": "cc535955",
   "metadata": {},
   "outputs": [
    {
     "name": "stdout",
     "output_type": "stream",
     "text": [
      "Epoch 1/3\n",
      "32/32 - 0s - loss: 7.8133 - 59ms/epoch - 2ms/step\n",
      "Epoch 2/3\n",
      "32/32 - 0s - loss: 7.7131 - 68ms/epoch - 2ms/step\n",
      "Epoch 3/3\n",
      "32/32 - 0s - loss: 7.5463 - 67ms/epoch - 2ms/step\n"
     ]
    }
   ],
   "source": [
    "# подбираем эпохи\n",
    "model.fit(features, target, verbose=2,\n",
    "         epochs=3);"
   ]
  },
  {
   "cell_type": "code",
   "execution_count": 19,
   "id": "89457807",
   "metadata": {},
   "outputs": [
    {
     "name": "stdout",
     "output_type": "stream",
     "text": [
      "Epoch 1/10\n",
      "32/32 - 0s - loss: 7.2948 - 56ms/epoch - 2ms/step\n",
      "Epoch 2/10\n",
      "32/32 - 0s - loss: 6.9830 - 67ms/epoch - 2ms/step\n",
      "Epoch 3/10\n",
      "32/32 - 0s - loss: 6.7278 - 68ms/epoch - 2ms/step\n",
      "Epoch 4/10\n",
      "32/32 - 0s - loss: 6.5480 - 65ms/epoch - 2ms/step\n",
      "Epoch 5/10\n",
      "32/32 - 0s - loss: 6.4450 - 71ms/epoch - 2ms/step\n",
      "Epoch 6/10\n",
      "32/32 - 0s - loss: 6.3696 - 81ms/epoch - 3ms/step\n",
      "Epoch 7/10\n",
      "32/32 - 0s - loss: 6.3280 - 90ms/epoch - 3ms/step\n",
      "Epoch 8/10\n",
      "32/32 - 0s - loss: 6.3168 - 60ms/epoch - 2ms/step\n",
      "Epoch 9/10\n",
      "32/32 - 0s - loss: 6.2953 - 65ms/epoch - 2ms/step\n",
      "Epoch 10/10\n",
      "32/32 - 0s - loss: 6.2842 - 67ms/epoch - 2ms/step\n"
     ]
    }
   ],
   "source": [
    "# подбираем эпохи\n",
    "model.fit(features, target, verbose=2,\n",
    "         epochs=10);"
   ]
  },
  {
   "cell_type": "code",
   "execution_count": 28,
   "id": "fee457b8",
   "metadata": {},
   "outputs": [
    {
     "name": "stdout",
     "output_type": "stream",
     "text": [
      "Epoch 1/5\n",
      "32/32 - 0s - loss: 6.2152 - 62ms/epoch - 2ms/step\n",
      "Epoch 2/5\n",
      "32/32 - 0s - loss: 6.2070 - 59ms/epoch - 2ms/step\n",
      "Epoch 3/5\n",
      "32/32 - 0s - loss: 6.2277 - 71ms/epoch - 2ms/step\n",
      "Epoch 4/5\n",
      "32/32 - 0s - loss: 6.1962 - 121ms/epoch - 4ms/step\n",
      "Epoch 5/5\n",
      "32/32 - 0s - loss: 6.1976 - 106ms/epoch - 3ms/step\n"
     ]
    }
   ],
   "source": [
    "# подбираем эпохи\n",
    "model.fit(features, target, verbose=2,\n",
    "         epochs=5);"
   ]
  },
  {
   "cell_type": "markdown",
   "id": "de8c70d3",
   "metadata": {},
   "source": [
    "### Conclusion: Значение MSE=6.2 и уменьшается с каждой эпохой. Когда обучаем нейронную сеть, обычно запускается много эпох. Остановить обучение можно, если достигли нужного значения качества модели или когда MSE перестало снижаться.\n",
    "\n",
    "Порог MSE обсуждаем с заказчиком."
   ]
  },
  {
   "cell_type": "markdown",
   "id": "dd4f2774",
   "metadata": {},
   "source": [
    "## Task 2\n",
    "\n",
    "Найдите значение функции потерь на валидационной выборке. Передайте модели  валидационную выборку в аргументе validation_data метода model.fit().\n",
    "\n",
    "#### Догружаем валидационную выборку test_data."
   ]
  },
  {
   "cell_type": "code",
   "execution_count": 29,
   "id": "5ca7beb2",
   "metadata": {},
   "outputs": [],
   "source": [
    "# loading and splitting train data\n",
    "data_train = pd.read_csv('/Users/yuliabezginova/PycharmProjects/computer_vision/train_data_n.csv')\n",
    "features_train = data_train.drop('target', axis=1)\n",
    "target_train = data_train['target']\n",
    "\n",
    "# loading and splitting test data\n",
    "data_valid = pd.read_csv('/Users/yuliabezginova/PycharmProjects/computer_vision/test_data_n.csv')\n",
    "features_valid = data_valid.drop('target', axis=1)\n",
    "target_valid = data_valid['target']"
   ]
  },
  {
   "cell_type": "code",
   "execution_count": 32,
   "id": "c84378ad",
   "metadata": {},
   "outputs": [],
   "source": [
    "model = keras.models.Sequential()"
   ]
  },
  {
   "cell_type": "code",
   "execution_count": 33,
   "id": "f7e61c50",
   "metadata": {},
   "outputs": [],
   "source": [
    "model.add(keras.layers.Dense(units=1, input_dim=features_train.shape[1]))\n",
    "\n",
    "# как обучается нейронная сеть, подготовка модели к обучению\n",
    "model.compile(loss='mean_squared_error', optimizer='sgd')"
   ]
  },
  {
   "cell_type": "code",
   "execution_count": 41,
   "id": "36a8ebf0",
   "metadata": {
    "scrolled": true
   },
   "outputs": [
    {
     "name": "stdout",
     "output_type": "stream",
     "text": [
      "Epoch 1/5\n",
      "32/32 - 0s - loss: 6.4490 - val_loss: 6.8312 - 182ms/epoch - 6ms/step\n",
      "Epoch 2/5\n",
      "32/32 - 0s - loss: 6.4474 - val_loss: 6.8165 - 125ms/epoch - 4ms/step\n",
      "Epoch 3/5\n",
      "32/32 - 0s - loss: 6.4525 - val_loss: 6.7945 - 146ms/epoch - 5ms/step\n",
      "Epoch 4/5\n",
      "32/32 - 0s - loss: 6.4411 - val_loss: 6.8206 - 137ms/epoch - 4ms/step\n",
      "Epoch 5/5\n",
      "32/32 - 0s - loss: 6.4831 - val_loss: 6.8144 - 126ms/epoch - 4ms/step\n"
     ]
    }
   ],
   "source": [
    "model.fit(features_train, target_train,\n",
    "          verbose=2,\n",
    "         epochs=5,\n",
    "         validation_data=(features_valid, target_valid));"
   ]
  },
  {
   "cell_type": "markdown",
   "id": "c4a16e9a",
   "metadata": {},
   "source": [
    "### Conclusion: На валидационной выборке значение функции потерь немного больше, чем на обучающей. Это означает переобучение. Это нормально, исправлять ничего не нужно."
   ]
  }
 ],
 "metadata": {
  "kernelspec": {
   "display_name": "Python 3 (ipykernel)",
   "language": "python",
   "name": "python3"
  },
  "language_info": {
   "codemirror_mode": {
    "name": "ipython",
    "version": 3
   },
   "file_extension": ".py",
   "mimetype": "text/x-python",
   "name": "python",
   "nbconvert_exporter": "python",
   "pygments_lexer": "ipython3",
   "version": "3.10.9"
  }
 },
 "nbformat": 4,
 "nbformat_minor": 5
}
