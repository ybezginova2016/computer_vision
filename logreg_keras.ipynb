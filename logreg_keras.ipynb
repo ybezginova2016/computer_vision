{
 "cells": [
  {
   "cell_type": "markdown",
   "id": "b46c563f",
   "metadata": {},
   "source": [
    "# Logistic Regression: Keras"
   ]
  },
  {
   "cell_type": "code",
   "execution_count": 2,
   "id": "cdb11887",
   "metadata": {},
   "outputs": [],
   "source": [
    "import pandas as pd\n",
    "from tensorflow import keras\n",
    "\n",
    "import warnings\n",
    "warnings.simplefilter(\"ignore\", category=RuntimeWarning)\n",
    "pd.options.mode.chained_assignment = None "
   ]
  },
  {
   "cell_type": "code",
   "execution_count": 3,
   "id": "cd804fd1",
   "metadata": {},
   "outputs": [],
   "source": [
    "# loading and splitting train data\n",
    "df = pd.read_csv('/Users/yuliabezginova/PycharmProjects/computer_vision/train_data_n.csv')\n",
    "df['target'] = (df['target'] > df['target'].median()).astype(int)\n",
    "features_train = df.drop('target', axis=1)\n",
    "target_train = df['target']\n",
    "\n",
    "# loading and splitting test data\n",
    "df_val = pd.read_csv('/Users/yuliabezginova/PycharmProjects/computer_vision/test_data_n.csv')\n",
    "df_val['target'] = (df_val['target'] > df['target'].median()).astype(int)\n",
    "features_valid = df_val.drop('target', axis=1)\n",
    "target_valid = df_val['target']"
   ]
  },
  {
   "cell_type": "code",
   "execution_count": 5,
   "id": "1a6e1eee",
   "metadata": {},
   "outputs": [],
   "source": [
    "model = keras.models.Sequential()\n",
    "\n",
    "import warnings\n",
    "warnings.simplefilter(\"ignore\", category=RuntimeWarning)\n",
    "pd.options.mode.chained_assignment = None "
   ]
  },
  {
   "cell_type": "code",
   "execution_count": 7,
   "id": "06e6e26e",
   "metadata": {},
   "outputs": [],
   "source": [
    "# 1) К полносвязному слою примените функцию активации:\n",
    "keras.layers.Dense(units=1, input_dim=features_train.shape[1], \n",
    "                   activation='sigmoid');"
   ]
  },
  {
   "cell_type": "code",
   "execution_count": 9,
   "id": "6c22ca6e",
   "metadata": {},
   "outputs": [],
   "source": [
    "# добавляем слой\n",
    "model.add(keras.layers.Dense(units=1, input_dim=features_train.shape[1],\n",
    "                            activation='sigmoid')) "
   ]
  },
  {
   "cell_type": "code",
   "execution_count": 10,
   "id": "0cd1fe07",
   "metadata": {},
   "outputs": [],
   "source": [
    "# 2) Поменяйте функцию потерь MSE на binary_crossentropy.\n",
    "model.compile(loss='binary_crossentropy', optimizer='sgd')"
   ]
  },
  {
   "cell_type": "code",
   "execution_count": 11,
   "id": "22a55695",
   "metadata": {},
   "outputs": [
    {
     "name": "stdout",
     "output_type": "stream",
     "text": [
      "Epoch 1/5\n",
      "32/32 - 1s - loss: 0.8682 - val_loss: 0.8525 - 993ms/epoch - 31ms/step\n",
      "Epoch 2/5\n",
      "32/32 - 0s - loss: 0.8361 - val_loss: 0.8317 - 128ms/epoch - 4ms/step\n",
      "Epoch 3/5\n",
      "32/32 - 0s - loss: 0.8081 - val_loss: 0.8132 - 129ms/epoch - 4ms/step\n",
      "Epoch 4/5\n",
      "32/32 - 0s - loss: 0.7826 - val_loss: 0.7972 - 136ms/epoch - 4ms/step\n",
      "Epoch 5/5\n",
      "32/32 - 0s - loss: 0.7605 - val_loss: 0.7830 - 172ms/epoch - 5ms/step\n"
     ]
    }
   ],
   "source": [
    "model.fit(features_train, target_train,\n",
    "          verbose=2,\n",
    "         epochs=5,\n",
    "         validation_data=(features_valid, target_valid));"
   ]
  },
  {
   "cell_type": "markdown",
   "id": "cd297b2f",
   "metadata": {},
   "source": [
    "### Conclusion: Кросс-энтропия уменьшается, это хорошо. Чтобы понять, улучшается ли модель или нет, необходимо вычислить accuracy."
   ]
  }
 ],
 "metadata": {
  "kernelspec": {
   "display_name": "Python 3 (ipykernel)",
   "language": "python",
   "name": "python3"
  },
  "language_info": {
   "codemirror_mode": {
    "name": "ipython",
    "version": 3
   },
   "file_extension": ".py",
   "mimetype": "text/x-python",
   "name": "python",
   "nbconvert_exporter": "python",
   "pygments_lexer": "ipython3",
   "version": "3.10.9"
  }
 },
 "nbformat": 4,
 "nbformat_minor": 5
}
